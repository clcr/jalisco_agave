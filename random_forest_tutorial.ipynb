{
 "cells": [
  {
   "cell_type": "code",
   "execution_count": 5,
   "metadata": {},
   "outputs": [],
   "source": [
    "import numpy as np\n",
    "import sklearn.ensemble as ens\n",
    "import gdal\n",
    "from osgeo import ogr, osr\n",
    "import os\n",
    "import subprocess\n",
    "import gdal\n",
    "from osgeo import ogr, osr\n",
    "import numpy as np\n",
    "import numpy.ma as ma\n",
    "import tempfile\n",
    "from tempfile import TemporaryDirectory\n",
    "import sklearn.ensemble as ens\n",
    "from sklearn.model_selection import cross_val_score\n",
    "from skimage import morphology as morph\n",
    "import scipy.sparse as sp\n",
    "from sklearn.externals import joblib as sklearn_joblib\n",
    "import shutil\n",
    "import zipfile\n",
    "\n"
   ]
  },
  {
   "cell_type": "code",
   "execution_count": 19,
   "metadata": {},
   "outputs": [],
   "source": [
    "def reshape_raster_for_ml(image_array):\n",
    "    \"\"\"Reshapes an array from gdal order [band, y, x] to scikit order [x*y, band]\"\"\"\n",
    "    bands, y, x = image_array.shape\n",
    "    image_array = np.transpose(image_array, (1, 2, 0))\n",
    "    image_array = np.reshape(image_array, (x * y, bands))\n",
    "    return image_array"
   ]
  },
  {
   "cell_type": "code",
   "execution_count": 18,
   "metadata": {},
   "outputs": [],
   "source": [
    "def get_training_data(image_path, shape_path, attribute=\"CODE\", shape_projection_id=4326):\n",
    "    \"\"\"Given an image and a shapefile with categories, return x and y suitable\n",
    "    for feeding into random_forest.fit.\n",
    "    Note: THIS WILL FAIL IF YOU HAVE ANY CLASSES NUMBERED '0'\n",
    "    WRITE A TEST FOR THIS TOO; if this goes wrong, it'll go wrong quietly and in a way that'll cause the most issues\n",
    "     further on down the line.\"\"\"\n",
    "    with TemporaryDirectory() as td:\n",
    "        shape_projection = osr.SpatialReference()\n",
    "        shape_projection.ImportFromEPSG(shape_projection_id)\n",
    "        image = gdal.Open(image_path)\n",
    "        image_gt = image.GetGeoTransform()\n",
    "        x_res, y_res = image_gt[1], image_gt[5]\n",
    "        ras_path = os.path.join(td, \"poly_ras\")\n",
    "        ras_params = gdal.RasterizeOptions(\n",
    "            noData=0,\n",
    "            attribute=attribute,\n",
    "            xRes=x_res,\n",
    "            yRes=y_res,\n",
    "            outputType=gdal.GDT_Int16,\n",
    "            outputSRS=shape_projection\n",
    "        )\n",
    "        # This produces a rasterised geotiff that's right, but not perfectly aligned to pixels.\n",
    "        # This can probably be fixed.\n",
    "        gdal.Rasterize(ras_path, shape_path, options=ras_params)\n",
    "        rasterised_shapefile = gdal.Open(ras_path)\n",
    "        shape_array = rasterised_shapefile.GetVirtualMemArray()\n",
    "        local_x, local_y = get_local_top_left(image, rasterised_shapefile)\n",
    "        shape_sparse = sp.coo_matrix(shape_array)\n",
    "        y, x, features = sp.find(shape_sparse)\n",
    "        training_data = np.empty((len(features), image.RasterCount))\n",
    "        image_array = image.GetVirtualMemArray()\n",
    "        image_view = image_array[:,\n",
    "                    local_y: local_y + rasterised_shapefile.RasterYSize,\n",
    "                    local_x: local_x + rasterised_shapefile.RasterXSize\n",
    "                    ]\n",
    "        for index in range(len(features)):\n",
    "            training_data[index, :] = image_view[:, y[index], x[index]]\n",
    "    return training_data, features\n",
    "\n",
    "\n",
    "def get_local_top_left(raster1, raster2):\n",
    "    \"\"\"Gets the top-left corner of raster1 in the array of raster 2; WRITE A TEST FOR THIS\"\"\"\n",
    "    inner_gt = raster2.GetGeoTransform()\n",
    "    return point_to_pixel_coordinates(raster1, [inner_gt[0], inner_gt[3]])\n",
    "\n",
    "\n",
    "def point_to_pixel_coordinates(raster, point, oob_fail=False):\n",
    "    \"\"\"Returns a tuple (x_pixel, y_pixel) in a georaster raster corresponding to the point.\n",
    "    Point can be an ogr point object, a wkt string or an x, y tuple or list. Assumes north-up non rotated.\n",
    "    Will floor() decimal output\"\"\"\n",
    "    # Equation is rearrangement of section on affinine geotransform in http://www.gdal.org/gdal_datamodel.html\n",
    "    if isinstance(point, str):\n",
    "        point = ogr.CreateGeometryFromWkt(point)\n",
    "        x_geo = point.GetX()\n",
    "        y_geo = point.GetY()\n",
    "    if isinstance(point, list) or isinstance(point, tuple):  # There is a more pythonic way to do this\n",
    "        x_geo = point[0]\n",
    "        y_geo = point[1]\n",
    "    if isinstance(point, ogr.Geometry):\n",
    "        x_geo = point.GetX()\n",
    "        y_geo = point.GetY()\n",
    "    gt = raster.GetGeoTransform()\n",
    "    x_pixel = int(np.floor((x_geo - floor_to_resolution(gt[0], gt[1]))/gt[1]))\n",
    "    y_pixel = int(np.floor((y_geo - floor_to_resolution(gt[3], gt[5]*-1))/gt[5]))  # y resolution is -ve\n",
    "    return x_pixel, y_pixel\n",
    "\n",
    "\n",
    "\n",
    "def floor_to_resolution(input, resolution):\n",
    "    \"\"\"Returns input rounded DOWN to the nearest multiple of resolution.\"\"\"\n",
    "    return input - (input%resolution)"
   ]
  },
  {
   "cell_type": "code",
   "execution_count": 4,
   "metadata": {},
   "outputs": [
    {
     "ename": "SyntaxError",
     "evalue": "invalid syntax (<ipython-input-4-238b477259a2>, line 3)",
     "output_type": "error",
     "traceback": [
      "\u001b[0;36m  File \u001b[0;32m\"<ipython-input-4-238b477259a2>\"\u001b[0;36m, line \u001b[0;32m3\u001b[0m\n\u001b[0;31m    image = gdal.Open(http://localhost:8888/edit/Documents/gis/Agave/agavero_28022017_planet.tif)\u001b[0m\n\u001b[0m                          ^\u001b[0m\n\u001b[0;31mSyntaxError\u001b[0m\u001b[0;31m:\u001b[0m invalid syntax\n"
     ]
    }
   ],
   "source": [
    "import gdal\n",
    "from sklearn.ensemble import RandomForestClassifier\n",
    "image = gdal.Open(http://localhost:8888/edit/Documents/gis/Agave/agavero_28022017_planet.tif)"
   ]
  },
  {
   "cell_type": "code",
   "execution_count": 20,
   "metadata": {},
   "outputs": [],
   "source": [
    "image = gdal.Open(\"agavero_28022017_planet.tif\")\n",
    "image_array = image.GetVirtualMemArray()\n",
    "features_to_classify = reshape_raster_for_ml(image_array)\n",
    "\n",
    "\n"
   ]
  },
  {
   "cell_type": "code",
   "execution_count": 6,
   "metadata": {},
   "outputs": [
    {
     "data": {
      "text/plain": [
       "6299"
      ]
     },
     "execution_count": 6,
     "metadata": {},
     "output_type": "execute_result"
    }
   ],
   "source": [
    "features.max()"
   ]
  },
  {
   "cell_type": "code",
   "execution_count": 6,
   "metadata": {},
   "outputs": [],
   "source": [
    "model = ens.ExtraTreesClassifier(bootstrap=False, criterion=\"gini\", max_features=0.55, min_samples_leaf=2,\n",
    "min_samples_split=16, n_estimators=100, n_jobs=-1, class_weight='balanced')"
   ]
  },
  {
   "cell_type": "code",
   "execution_count": 8,
   "metadata": {},
   "outputs": [],
   "source": [
    "shape_path = \"rough_training_poly.shp\"\n",
    "image_path = \"agavero_28022017_planet.tif\"\n",
    "\n",
    "training_data = get_training_data(image_path, shape_path, attribute=\"CLASE\", shape_projection_id=4326)"
   ]
  },
  {
   "cell_type": "code",
   "execution_count": 10,
   "metadata": {},
   "outputs": [],
   "source": [
    "import pickle\n",
    "with open(\"training_data.pkl\", \"wb\") as file:\n",
    "    pickle.dump(training_data, file)"
   ]
  },
  {
   "cell_type": "code",
   "execution_count": 1,
   "metadata": {},
   "outputs": [],
   "source": [
    "import pickle\n",
    "with open(\"training_data.pkl\", \"rb\") as file:\n",
    "    training_data = pickle.load(file)"
   ]
  },
  {
   "cell_type": "code",
   "execution_count": 2,
   "metadata": {},
   "outputs": [
    {
     "data": {
      "text/plain": [
       "(4757435, 4)"
      ]
     },
     "execution_count": 2,
     "metadata": {},
     "output_type": "execute_result"
    }
   ],
   "source": [
    "training_data\n",
    "features, classes = training_data\n",
    "features\n",
    "classes\n",
    "features.shape"
   ]
  },
  {
   "cell_type": "code",
   "execution_count": 5,
   "metadata": {},
   "outputs": [
    {
     "ename": "NameError",
     "evalue": "name 'table' is not defined",
     "output_type": "error",
     "traceback": [
      "\u001b[0;31m---------------------------------------------------------------------------\u001b[0m",
      "\u001b[0;31mNameError\u001b[0m                                 Traceback (most recent call last)",
      "\u001b[0;32m<ipython-input-5-a192a9942041>\u001b[0m in \u001b[0;36m<module>\u001b[0;34m\u001b[0m\n\u001b[0;32m----> 1\u001b[0;31m \u001b[0mtable\u001b[0m\u001b[0;34m(\u001b[0m\u001b[0mfeatures\u001b[0m\u001b[0;34m)\u001b[0m\u001b[0;34m\u001b[0m\u001b[0;34m\u001b[0m\u001b[0m\n\u001b[0m",
      "\u001b[0;31mNameError\u001b[0m: name 'table' is not defined"
     ]
    }
   ],
   "source": [
    "import pandas as pd\n",
    "feature_dataframe = pd.DataFrame(features,)"
   ]
  },
  {
   "cell_type": "code",
   "execution_count": 7,
   "metadata": {},
   "outputs": [
    {
     "data": {
      "text/plain": [
       "ExtraTreesClassifier(bootstrap=False, class_weight='balanced',\n",
       "           criterion='gini', max_depth=None, max_features=0.55,\n",
       "           max_leaf_nodes=None, min_impurity_decrease=0.0,\n",
       "           min_impurity_split=None, min_samples_leaf=2,\n",
       "           min_samples_split=16, min_weight_fraction_leaf=0.0,\n",
       "           n_estimators=100, n_jobs=-1, oob_score=False, random_state=None,\n",
       "           verbose=0, warm_start=False)"
      ]
     },
     "execution_count": 7,
     "metadata": {},
     "output_type": "execute_result"
    }
   ],
   "source": [
    "model.fit(features[0:20000, :], classes[0:20000])"
   ]
  },
  {
   "cell_type": "code",
   "execution_count": 13,
   "metadata": {},
   "outputs": [
    {
     "data": {
      "text/plain": [
       "array([ 1,  2,  4,  5,  8,  9, 10], dtype=int16)"
      ]
     },
     "execution_count": 13,
     "metadata": {},
     "output_type": "execute_result"
    }
   ],
   "source": [
    "np.unique(classes[0:20000])"
   ]
  },
  {
   "cell_type": "code",
   "execution_count": 22,
   "metadata": {},
   "outputs": [],
   "source": [
    "out_chunks = []\n",
    "for chunk in np.array_split(features_to_classify, 10):\n",
    "    out_chunks.append(model.predict(chunk))"
   ]
  },
  {
   "cell_type": "code",
   "execution_count": 23,
   "metadata": {},
   "outputs": [
    {
     "data": {
      "text/plain": [
       "array([9, 9, 9, ..., 9, 9, 9], dtype=int16)"
      ]
     },
     "execution_count": 23,
     "metadata": {},
     "output_type": "execute_result"
    }
   ],
   "source": [
    "out_classes = np.concatenate(out_chunks)\n",
    "out_classes"
   ]
  },
  {
   "cell_type": "code",
   "execution_count": 25,
   "metadata": {},
   "outputs": [],
   "source": [
    "def reshape_ml_out_to_raster(classes, width, height):\n",
    "    \"\"\"Reshapes an output [x*y] to gdal order [y, x]\"\"\"\n",
    "    # TODO: Test this.\n",
    "    image_array = np.reshape(classes, (height, width))\n",
    "    return image_array\n",
    "\n",
    "out_image_array = reshape_ml_out_to_raster(out_classes, 9999, 9444)"
   ]
  },
  {
   "cell_type": "code",
   "execution_count": 31,
   "metadata": {},
   "outputs": [
    {
     "data": {
      "text/plain": [
       "<matplotlib.image.AxesImage at 0x7f9b7153b4e0>"
      ]
     },
     "execution_count": 31,
     "metadata": {},
     "output_type": "execute_result"
    },
    {
     "data": {
      "image/png": "[encoded data removed]",
      "text/plain": [
       "<Figure size 432x288 with 1 Axes>"
      ]
     },
     "metadata": {
      "needs_background": "light"
     },
     "output_type": "display_data"
    }
   ],
   "source": [
    "%matplotlib inline\n",
    "import matplotlib.pyplot as plt\n",
    "plt.imshow(out_image_array)"
   ]
  }
 ],
 "metadata": {
  "kernelspec": {
   "display_name": "Python 3",
   "language": "python",
   "name": "python3"
  },
  "language_info": {
   "codemirror_mode": {
    "name": "ipython",
    "version": 3
   },
   "file_extension": ".py",
   "mimetype": "text/x-python",
   "name": "python",
   "nbconvert_exporter": "python",
   "pygments_lexer": "ipython3",
   "version": "3.7.1"
  }
 },
 "nbformat": 4,
 "nbformat_minor": 2
}
